{
 "cells": [
  {
   "cell_type": "code",
   "execution_count": 2,
   "metadata": {},
   "outputs": [],
   "source": [
    "import pandas as pd"
   ]
  },
  {
   "cell_type": "code",
   "execution_count": 3,
   "metadata": {},
   "outputs": [],
   "source": [
    "import numpy as np"
   ]
  },
  {
   "cell_type": "code",
   "execution_count": 4,
   "metadata": {},
   "outputs": [],
   "source": [
    "df = pd.read_excel(\"Interview_questions.xlsx\",sheet_name='base_data')"
   ]
  },
  {
   "cell_type": "code",
   "execution_count": 5,
   "metadata": {},
   "outputs": [
    {
     "data": {
      "text/html": [
       "<div>\n",
       "<style scoped>\n",
       "    .dataframe tbody tr th:only-of-type {\n",
       "        vertical-align: middle;\n",
       "    }\n",
       "\n",
       "    .dataframe tbody tr th {\n",
       "        vertical-align: top;\n",
       "    }\n",
       "\n",
       "    .dataframe thead th {\n",
       "        text-align: right;\n",
       "    }\n",
       "</style>\n",
       "<table border=\"1\" class=\"dataframe\">\n",
       "  <thead>\n",
       "    <tr style=\"text-align: right;\">\n",
       "      <th></th>\n",
       "      <th>date</th>\n",
       "      <th>order_no</th>\n",
       "      <th>format</th>\n",
       "      <th>division_name</th>\n",
       "      <th>orderval</th>\n",
       "      <th>rcvval</th>\n",
       "    </tr>\n",
       "  </thead>\n",
       "  <tbody>\n",
       "    <tr>\n",
       "      <th>0</th>\n",
       "      <td>2020-10-18</td>\n",
       "      <td>1</td>\n",
       "      <td>sm</td>\n",
       "      <td>Staples</td>\n",
       "      <td>9732.80</td>\n",
       "      <td>9732.80</td>\n",
       "    </tr>\n",
       "    <tr>\n",
       "      <th>1</th>\n",
       "      <td>2020-10-16</td>\n",
       "      <td>2</td>\n",
       "      <td>sm</td>\n",
       "      <td>Grocery Food</td>\n",
       "      <td>558.71</td>\n",
       "      <td>558.71</td>\n",
       "    </tr>\n",
       "    <tr>\n",
       "      <th>2</th>\n",
       "      <td>2020-10-20</td>\n",
       "      <td>3</td>\n",
       "      <td>sm</td>\n",
       "      <td>Grocery Non Food</td>\n",
       "      <td>2927.04</td>\n",
       "      <td>2927.04</td>\n",
       "    </tr>\n",
       "    <tr>\n",
       "      <th>3</th>\n",
       "      <td>2020-10-21</td>\n",
       "      <td>4</td>\n",
       "      <td>sm</td>\n",
       "      <td>Grocery Food</td>\n",
       "      <td>905.96</td>\n",
       "      <td>905.96</td>\n",
       "    </tr>\n",
       "    <tr>\n",
       "      <th>4</th>\n",
       "      <td>2020-10-27</td>\n",
       "      <td>5</td>\n",
       "      <td>sm</td>\n",
       "      <td>Grocery Food</td>\n",
       "      <td>988.62</td>\n",
       "      <td>988.62</td>\n",
       "    </tr>\n",
       "  </tbody>\n",
       "</table>\n",
       "</div>"
      ],
      "text/plain": [
       "        date  order_no format     division_name  orderval   rcvval\n",
       "0 2020-10-18         1     sm           Staples   9732.80  9732.80\n",
       "1 2020-10-16         2     sm      Grocery Food    558.71   558.71\n",
       "2 2020-10-20         3     sm  Grocery Non Food   2927.04  2927.04\n",
       "3 2020-10-21         4     sm      Grocery Food    905.96   905.96\n",
       "4 2020-10-27         5     sm      Grocery Food    988.62   988.62"
      ]
     },
     "execution_count": 5,
     "metadata": {},
     "output_type": "execute_result"
    }
   ],
   "source": [
    "df.head()"
   ]
  },
  {
   "cell_type": "markdown",
   "metadata": {},
   "source": [
    "#### Filling null values"
   ]
  },
  {
   "cell_type": "code",
   "execution_count": 6,
   "metadata": {},
   "outputs": [],
   "source": [
    "df['orderval'].fillna(0, inplace = True)\n",
    "df['rcvval'].fillna(0, inplace = True)\n"
   ]
  },
  {
   "cell_type": "code",
   "execution_count": 7,
   "metadata": {},
   "outputs": [
    {
     "data": {
      "text/plain": [
       "date             0\n",
       "order_no         0\n",
       "format           0\n",
       "division_name    0\n",
       "orderval         0\n",
       "rcvval           0\n",
       "dtype: int64"
      ]
     },
     "execution_count": 7,
     "metadata": {},
     "output_type": "execute_result"
    }
   ],
   "source": [
    "df.isnull().sum()"
   ]
  },
  {
   "cell_type": "code",
   "execution_count": 8,
   "metadata": {},
   "outputs": [
    {
     "data": {
      "text/html": [
       "<div>\n",
       "<style scoped>\n",
       "    .dataframe tbody tr th:only-of-type {\n",
       "        vertical-align: middle;\n",
       "    }\n",
       "\n",
       "    .dataframe tbody tr th {\n",
       "        vertical-align: top;\n",
       "    }\n",
       "\n",
       "    .dataframe thead th {\n",
       "        text-align: right;\n",
       "    }\n",
       "</style>\n",
       "<table border=\"1\" class=\"dataframe\">\n",
       "  <thead>\n",
       "    <tr style=\"text-align: right;\">\n",
       "      <th></th>\n",
       "      <th>date</th>\n",
       "      <th>order_no</th>\n",
       "      <th>format</th>\n",
       "      <th>division_name</th>\n",
       "      <th>orderval</th>\n",
       "      <th>rcvval</th>\n",
       "    </tr>\n",
       "  </thead>\n",
       "  <tbody>\n",
       "    <tr>\n",
       "      <td>0</td>\n",
       "      <td>2020-10-18</td>\n",
       "      <td>1</td>\n",
       "      <td>sm</td>\n",
       "      <td>Staples</td>\n",
       "      <td>9732.80</td>\n",
       "      <td>9732.80</td>\n",
       "    </tr>\n",
       "    <tr>\n",
       "      <td>1</td>\n",
       "      <td>2020-10-16</td>\n",
       "      <td>2</td>\n",
       "      <td>sm</td>\n",
       "      <td>Grocery Food</td>\n",
       "      <td>558.71</td>\n",
       "      <td>558.71</td>\n",
       "    </tr>\n",
       "    <tr>\n",
       "      <td>2</td>\n",
       "      <td>2020-10-20</td>\n",
       "      <td>3</td>\n",
       "      <td>sm</td>\n",
       "      <td>Grocery Non Food</td>\n",
       "      <td>2927.04</td>\n",
       "      <td>2927.04</td>\n",
       "    </tr>\n",
       "    <tr>\n",
       "      <td>3</td>\n",
       "      <td>2020-10-21</td>\n",
       "      <td>4</td>\n",
       "      <td>sm</td>\n",
       "      <td>Grocery Food</td>\n",
       "      <td>905.96</td>\n",
       "      <td>905.96</td>\n",
       "    </tr>\n",
       "    <tr>\n",
       "      <td>4</td>\n",
       "      <td>2020-10-27</td>\n",
       "      <td>5</td>\n",
       "      <td>sm</td>\n",
       "      <td>Grocery Food</td>\n",
       "      <td>988.62</td>\n",
       "      <td>988.62</td>\n",
       "    </tr>\n",
       "  </tbody>\n",
       "</table>\n",
       "</div>"
      ],
      "text/plain": [
       "        date  order_no format     division_name  orderval   rcvval\n",
       "0 2020-10-18         1     sm           Staples   9732.80  9732.80\n",
       "1 2020-10-16         2     sm      Grocery Food    558.71   558.71\n",
       "2 2020-10-20         3     sm  Grocery Non Food   2927.04  2927.04\n",
       "3 2020-10-21         4     sm      Grocery Food    905.96   905.96\n",
       "4 2020-10-27         5     sm      Grocery Food    988.62   988.62"
      ]
     },
     "execution_count": 8,
     "metadata": {},
     "output_type": "execute_result"
    }
   ],
   "source": [
    "df.head(5)"
   ]
  },
  {
   "cell_type": "code",
   "execution_count": 9,
   "metadata": {},
   "outputs": [],
   "source": [
    "df2 = df.copy()"
   ]
  },
  {
   "cell_type": "markdown",
   "metadata": {},
   "source": [
    "### create a column day_bucket 1"
   ]
  },
  {
   "cell_type": "code",
   "execution_count": 10,
   "metadata": {},
   "outputs": [
    {
     "data": {
      "text/plain": [
       "0       -4 days\n",
       "1       -6 days\n",
       "2       -2 days\n",
       "3       -1 days\n",
       "4        5 days\n",
       "          ...  \n",
       "11901    4 days\n",
       "11902    1 days\n",
       "11903    4 days\n",
       "11904    0 days\n",
       "11905    6 days\n",
       "Name: date, Length: 11906, dtype: timedelta64[ns]"
      ]
     },
     "execution_count": 10,
     "metadata": {},
     "output_type": "execute_result"
    }
   ],
   "source": [
    "df2['date'] - pd.datetime(2020,10,22)"
   ]
  },
  {
   "cell_type": "code",
   "execution_count": 11,
   "metadata": {},
   "outputs": [
    {
     "data": {
      "text/plain": [
       "0        -4\n",
       "1        -6\n",
       "2        -2\n",
       "3        -1\n",
       "4        5 \n",
       "         ..\n",
       "11901    4 \n",
       "11902    1 \n",
       "11903    4 \n",
       "11904    0 \n",
       "11905    6 \n",
       "Name: date, Length: 11906, dtype: object"
      ]
     },
     "execution_count": 11,
     "metadata": {},
     "output_type": "execute_result"
    }
   ],
   "source": [
    "#converting from date time object to string\n",
    "(df2['date'] - pd.datetime(2020,10,22)).astype('str').str[:2]"
   ]
  },
  {
   "cell_type": "code",
   "execution_count": 13,
   "metadata": {},
   "outputs": [],
   "source": [
    "df2['day_bucket 1'] = (df2['date'] - pd.datetime(2020,10,22)).astype('str').str[:2]"
   ]
  },
  {
   "cell_type": "code",
   "execution_count": 15,
   "metadata": {},
   "outputs": [
    {
     "data": {
      "text/html": [
       "<div>\n",
       "<style scoped>\n",
       "    .dataframe tbody tr th:only-of-type {\n",
       "        vertical-align: middle;\n",
       "    }\n",
       "\n",
       "    .dataframe tbody tr th {\n",
       "        vertical-align: top;\n",
       "    }\n",
       "\n",
       "    .dataframe thead th {\n",
       "        text-align: right;\n",
       "    }\n",
       "</style>\n",
       "<table border=\"1\" class=\"dataframe\">\n",
       "  <thead>\n",
       "    <tr style=\"text-align: right;\">\n",
       "      <th></th>\n",
       "      <th>date</th>\n",
       "      <th>day_bucket 1</th>\n",
       "    </tr>\n",
       "  </thead>\n",
       "  <tbody>\n",
       "    <tr>\n",
       "      <td>0</td>\n",
       "      <td>2020-10-18</td>\n",
       "      <td>-4</td>\n",
       "    </tr>\n",
       "    <tr>\n",
       "      <td>1</td>\n",
       "      <td>2020-10-16</td>\n",
       "      <td>-6</td>\n",
       "    </tr>\n",
       "    <tr>\n",
       "      <td>2</td>\n",
       "      <td>2020-10-20</td>\n",
       "      <td>-2</td>\n",
       "    </tr>\n",
       "    <tr>\n",
       "      <td>3</td>\n",
       "      <td>2020-10-21</td>\n",
       "      <td>-1</td>\n",
       "    </tr>\n",
       "    <tr>\n",
       "      <td>4</td>\n",
       "      <td>2020-10-27</td>\n",
       "      <td>5</td>\n",
       "    </tr>\n",
       "    <tr>\n",
       "      <td>...</td>\n",
       "      <td>...</td>\n",
       "      <td>...</td>\n",
       "    </tr>\n",
       "    <tr>\n",
       "      <td>11901</td>\n",
       "      <td>2020-10-26</td>\n",
       "      <td>4</td>\n",
       "    </tr>\n",
       "    <tr>\n",
       "      <td>11902</td>\n",
       "      <td>2020-10-23</td>\n",
       "      <td>1</td>\n",
       "    </tr>\n",
       "    <tr>\n",
       "      <td>11903</td>\n",
       "      <td>2020-10-26</td>\n",
       "      <td>4</td>\n",
       "    </tr>\n",
       "    <tr>\n",
       "      <td>11904</td>\n",
       "      <td>2020-10-22</td>\n",
       "      <td>0</td>\n",
       "    </tr>\n",
       "    <tr>\n",
       "      <td>11905</td>\n",
       "      <td>2020-10-28</td>\n",
       "      <td>6</td>\n",
       "    </tr>\n",
       "  </tbody>\n",
       "</table>\n",
       "<p>11906 rows × 2 columns</p>\n",
       "</div>"
      ],
      "text/plain": [
       "            date day_bucket 1\n",
       "0     2020-10-18           -4\n",
       "1     2020-10-16           -6\n",
       "2     2020-10-20           -2\n",
       "3     2020-10-21           -1\n",
       "4     2020-10-27           5 \n",
       "...          ...          ...\n",
       "11901 2020-10-26           4 \n",
       "11902 2020-10-23           1 \n",
       "11903 2020-10-26           4 \n",
       "11904 2020-10-22           0 \n",
       "11905 2020-10-28           6 \n",
       "\n",
       "[11906 rows x 2 columns]"
      ]
     },
     "execution_count": 15,
     "metadata": {},
     "output_type": "execute_result"
    }
   ],
   "source": [
    "df2[['date','day_bucket 1']]"
   ]
  },
  {
   "cell_type": "code",
   "execution_count": 17,
   "metadata": {},
   "outputs": [],
   "source": [
    "df.drop(columns = 'date', inplace = True)"
   ]
  },
  {
   "cell_type": "code",
   "execution_count": 22,
   "metadata": {},
   "outputs": [],
   "source": [
    "df2['day_bucket 2'] = df2['day_bucket 1'].map({\n",
    "    '-9' : '-1 to -10',\n",
    "    '-8' : '-1 to -10',\n",
    "    '-7' : '-1 to -10',\n",
    "    '-6' : '-1 to -10',\n",
    "    '-5' : '-1 to -10',\n",
    "    '-4' : '-1 to -10',\n",
    "    '-3' : '-1 to -10',\n",
    "    '-2' : '-1 to -10',\n",
    "    '-1' : '-1 to -10',\n",
    "    \n",
    "        '0 ' : '0 to 2',\n",
    "        '1 ' : '0 to 2',\n",
    "        '2 ' : '0 to 2',\n",
    "            \n",
    "                '3 ' : '3 to 7',\n",
    "                '4 ' : '3 to 7',\n",
    "                '5 ' : '3 to 7',\n",
    "                '6 ' : '3 to 7',\n",
    "                '7 ' : '3 to 7'\n",
    "        \n",
    "})"
   ]
  },
  {
   "cell_type": "code",
   "execution_count": 23,
   "metadata": {},
   "outputs": [
    {
     "data": {
      "text/html": [
       "<div>\n",
       "<style scoped>\n",
       "    .dataframe tbody tr th:only-of-type {\n",
       "        vertical-align: middle;\n",
       "    }\n",
       "\n",
       "    .dataframe tbody tr th {\n",
       "        vertical-align: top;\n",
       "    }\n",
       "\n",
       "    .dataframe thead th {\n",
       "        text-align: right;\n",
       "    }\n",
       "</style>\n",
       "<table border=\"1\" class=\"dataframe\">\n",
       "  <thead>\n",
       "    <tr style=\"text-align: right;\">\n",
       "      <th></th>\n",
       "      <th>day_bucket 1</th>\n",
       "      <th>day_bucket 2</th>\n",
       "    </tr>\n",
       "  </thead>\n",
       "  <tbody>\n",
       "    <tr>\n",
       "      <td>0</td>\n",
       "      <td>-4</td>\n",
       "      <td>-1 to -10</td>\n",
       "    </tr>\n",
       "    <tr>\n",
       "      <td>1</td>\n",
       "      <td>-6</td>\n",
       "      <td>-1 to -10</td>\n",
       "    </tr>\n",
       "    <tr>\n",
       "      <td>2</td>\n",
       "      <td>-2</td>\n",
       "      <td>-1 to -10</td>\n",
       "    </tr>\n",
       "    <tr>\n",
       "      <td>3</td>\n",
       "      <td>-1</td>\n",
       "      <td>-1 to -10</td>\n",
       "    </tr>\n",
       "    <tr>\n",
       "      <td>4</td>\n",
       "      <td>5</td>\n",
       "      <td>3 to 7</td>\n",
       "    </tr>\n",
       "    <tr>\n",
       "      <td>...</td>\n",
       "      <td>...</td>\n",
       "      <td>...</td>\n",
       "    </tr>\n",
       "    <tr>\n",
       "      <td>11901</td>\n",
       "      <td>4</td>\n",
       "      <td>3 to 7</td>\n",
       "    </tr>\n",
       "    <tr>\n",
       "      <td>11902</td>\n",
       "      <td>1</td>\n",
       "      <td>0 to 2</td>\n",
       "    </tr>\n",
       "    <tr>\n",
       "      <td>11903</td>\n",
       "      <td>4</td>\n",
       "      <td>3 to 7</td>\n",
       "    </tr>\n",
       "    <tr>\n",
       "      <td>11904</td>\n",
       "      <td>0</td>\n",
       "      <td>0 to 2</td>\n",
       "    </tr>\n",
       "    <tr>\n",
       "      <td>11905</td>\n",
       "      <td>6</td>\n",
       "      <td>3 to 7</td>\n",
       "    </tr>\n",
       "  </tbody>\n",
       "</table>\n",
       "<p>11906 rows × 2 columns</p>\n",
       "</div>"
      ],
      "text/plain": [
       "      day_bucket 1 day_bucket 2\n",
       "0               -4    -1 to -10\n",
       "1               -6    -1 to -10\n",
       "2               -2    -1 to -10\n",
       "3               -1    -1 to -10\n",
       "4               5        3 to 7\n",
       "...            ...          ...\n",
       "11901           4        3 to 7\n",
       "11902           1        0 to 2\n",
       "11903           4        3 to 7\n",
       "11904           0        0 to 2\n",
       "11905           6        3 to 7\n",
       "\n",
       "[11906 rows x 2 columns]"
      ]
     },
     "execution_count": 23,
     "metadata": {},
     "output_type": "execute_result"
    }
   ],
   "source": [
    "df2[['day_bucket 1', 'day_bucket 2']]"
   ]
  },
  {
   "cell_type": "code",
   "execution_count": 25,
   "metadata": {},
   "outputs": [],
   "source": [
    "d1 = df2[df2['day_bucket 2']=='-1 to -10'].groupby(['format','division_name'])[['orderval','rcvval']].sum()\n",
    "d2 = df2[df2['day_bucket 2']=='0 to 2'].groupby(['format','division_name'])[['orderval','rcvval']].sum()\n",
    "d3 = df2[df2['day_bucket 2']=='3 to 7'].groupby(['format','division_name'])[['orderval','rcvval']].sum()"
   ]
  },
  {
   "cell_type": "code",
   "execution_count": 26,
   "metadata": {},
   "outputs": [],
   "source": [
    "d1['fillrate'] = d1['rcvval']/d1['orderval']\n",
    "d2['fillrate'] = d2['rcvval']/d1['orderval']\n",
    "d3['fillrate'] = d3['rcvval']/d1['orderval']"
   ]
  },
  {
   "cell_type": "code",
   "execution_count": 27,
   "metadata": {
    "collapsed": true
   },
   "outputs": [
    {
     "name": "stderr",
     "output_type": "stream",
     "text": [
      "C:\\Users\\Shubham\\Anaconda3\\lib\\site-packages\\ipykernel_launcher.py:1: UserWarning: Pandas doesn't allow columns to be created via a new attribute name - see https://pandas.pydata.org/pandas-docs/stable/indexing.html#attribute-access\n",
      "  \"\"\"Entry point for launching an IPython kernel.\n",
      "C:\\Users\\Shubham\\Anaconda3\\lib\\site-packages\\ipykernel_launcher.py:2: UserWarning: Pandas doesn't allow columns to be created via a new attribute name - see https://pandas.pydata.org/pandas-docs/stable/indexing.html#attribute-access\n",
      "  \n",
      "C:\\Users\\Shubham\\Anaconda3\\lib\\site-packages\\ipykernel_launcher.py:3: UserWarning: Pandas doesn't allow columns to be created via a new attribute name - see https://pandas.pydata.org/pandas-docs/stable/indexing.html#attribute-access\n",
      "  This is separate from the ipykernel package so we can avoid doing imports until\n"
     ]
    }
   ],
   "source": [
    "d1.coulmns = ['orderval_B1','rcvval_B1','fillrate_B1']\n",
    "d2.coulmns = ['orderval_B2','rcvval_B2','fillrate_B2']\n",
    "d3.coulmns = ['orderval_B3','rcvval_B3','fillrate_B3']"
   ]
  },
  {
   "cell_type": "code",
   "execution_count": 28,
   "metadata": {},
   "outputs": [
    {
     "data": {
      "text/html": [
       "<div>\n",
       "<style scoped>\n",
       "    .dataframe tbody tr th:only-of-type {\n",
       "        vertical-align: middle;\n",
       "    }\n",
       "\n",
       "    .dataframe tbody tr th {\n",
       "        vertical-align: top;\n",
       "    }\n",
       "\n",
       "    .dataframe thead th {\n",
       "        text-align: right;\n",
       "    }\n",
       "</style>\n",
       "<table border=\"1\" class=\"dataframe\">\n",
       "  <thead>\n",
       "    <tr style=\"text-align: right;\">\n",
       "      <th></th>\n",
       "      <th></th>\n",
       "      <th>orderval</th>\n",
       "      <th>rcvval</th>\n",
       "      <th>fillrate</th>\n",
       "      <th>orderval</th>\n",
       "      <th>rcvval</th>\n",
       "      <th>fillrate</th>\n",
       "      <th>orderval</th>\n",
       "      <th>rcvval</th>\n",
       "      <th>fillrate</th>\n",
       "    </tr>\n",
       "    <tr>\n",
       "      <th>format</th>\n",
       "      <th>division_name</th>\n",
       "      <th></th>\n",
       "      <th></th>\n",
       "      <th></th>\n",
       "      <th></th>\n",
       "      <th></th>\n",
       "      <th></th>\n",
       "      <th></th>\n",
       "      <th></th>\n",
       "      <th></th>\n",
       "    </tr>\n",
       "  </thead>\n",
       "  <tbody>\n",
       "    <tr>\n",
       "      <td rowspan=\"3\" valign=\"top\">hm</td>\n",
       "      <td>Grocery Food</td>\n",
       "      <td>130172.08</td>\n",
       "      <td>130172.08</td>\n",
       "      <td>1.000000</td>\n",
       "      <td>3553283.40</td>\n",
       "      <td>20420.15</td>\n",
       "      <td>0.156870</td>\n",
       "      <td>3050918.15</td>\n",
       "      <td>1899.46</td>\n",
       "      <td>0.014592</td>\n",
       "    </tr>\n",
       "    <tr>\n",
       "      <td>Grocery Non Food</td>\n",
       "      <td>14670.56</td>\n",
       "      <td>14670.56</td>\n",
       "      <td>1.000000</td>\n",
       "      <td>1288835.50</td>\n",
       "      <td>5112.35</td>\n",
       "      <td>0.348477</td>\n",
       "      <td>2886840.31</td>\n",
       "      <td>3879.31</td>\n",
       "      <td>0.264428</td>\n",
       "    </tr>\n",
       "    <tr>\n",
       "      <td>Staples</td>\n",
       "      <td>0.00</td>\n",
       "      <td>0.00</td>\n",
       "      <td>NaN</td>\n",
       "      <td>595349.92</td>\n",
       "      <td>0.00</td>\n",
       "      <td>NaN</td>\n",
       "      <td>1249676.03</td>\n",
       "      <td>0.00</td>\n",
       "      <td>NaN</td>\n",
       "    </tr>\n",
       "    <tr>\n",
       "      <td rowspan=\"3\" valign=\"top\">sm</td>\n",
       "      <td>Grocery Food</td>\n",
       "      <td>6951478.73</td>\n",
       "      <td>6735072.93</td>\n",
       "      <td>0.968869</td>\n",
       "      <td>6604780.07</td>\n",
       "      <td>1720812.39</td>\n",
       "      <td>0.247546</td>\n",
       "      <td>5513566.82</td>\n",
       "      <td>484621.63</td>\n",
       "      <td>0.069715</td>\n",
       "    </tr>\n",
       "    <tr>\n",
       "      <td>Grocery Non Food</td>\n",
       "      <td>4077619.84</td>\n",
       "      <td>4024782.67</td>\n",
       "      <td>0.987042</td>\n",
       "      <td>4512243.74</td>\n",
       "      <td>2060888.87</td>\n",
       "      <td>0.505415</td>\n",
       "      <td>4376645.83</td>\n",
       "      <td>303398.31</td>\n",
       "      <td>0.074406</td>\n",
       "    </tr>\n",
       "    <tr>\n",
       "      <td>Staples</td>\n",
       "      <td>5057269.34</td>\n",
       "      <td>4395770.93</td>\n",
       "      <td>0.869199</td>\n",
       "      <td>1394218.96</td>\n",
       "      <td>53575.54</td>\n",
       "      <td>0.010594</td>\n",
       "      <td>2045736.20</td>\n",
       "      <td>0.00</td>\n",
       "      <td>0.000000</td>\n",
       "    </tr>\n",
       "  </tbody>\n",
       "</table>\n",
       "</div>"
      ],
      "text/plain": [
       "                           orderval      rcvval  fillrate    orderval  \\\n",
       "format division_name                                                    \n",
       "hm     Grocery Food       130172.08   130172.08  1.000000  3553283.40   \n",
       "       Grocery Non Food    14670.56    14670.56  1.000000  1288835.50   \n",
       "       Staples                 0.00        0.00       NaN   595349.92   \n",
       "sm     Grocery Food      6951478.73  6735072.93  0.968869  6604780.07   \n",
       "       Grocery Non Food  4077619.84  4024782.67  0.987042  4512243.74   \n",
       "       Staples           5057269.34  4395770.93  0.869199  1394218.96   \n",
       "\n",
       "                             rcvval  fillrate    orderval     rcvval  fillrate  \n",
       "format division_name                                                            \n",
       "hm     Grocery Food        20420.15  0.156870  3050918.15    1899.46  0.014592  \n",
       "       Grocery Non Food     5112.35  0.348477  2886840.31    3879.31  0.264428  \n",
       "       Staples                 0.00       NaN  1249676.03       0.00       NaN  \n",
       "sm     Grocery Food      1720812.39  0.247546  5513566.82  484621.63  0.069715  \n",
       "       Grocery Non Food  2060888.87  0.505415  4376645.83  303398.31  0.074406  \n",
       "       Staples             53575.54  0.010594  2045736.20       0.00  0.000000  "
      ]
     },
     "execution_count": 28,
     "metadata": {},
     "output_type": "execute_result"
    }
   ],
   "source": [
    "df_list = [d1,d2,d3]\n",
    "df_final = pd.concat(df_list,axis=1)\n",
    "df_final"
   ]
  },
  {
   "cell_type": "code",
   "execution_count": null,
   "metadata": {},
   "outputs": [],
   "source": []
  }
 ],
 "metadata": {
  "kernelspec": {
   "display_name": "Python 3",
   "language": "python",
   "name": "python3"
  },
  "language_info": {
   "codemirror_mode": {
    "name": "ipython",
    "version": 3
   },
   "file_extension": ".py",
   "mimetype": "text/x-python",
   "name": "python",
   "nbconvert_exporter": "python",
   "pygments_lexer": "ipython3",
   "version": "3.7.4"
  }
 },
 "nbformat": 4,
 "nbformat_minor": 2
}
