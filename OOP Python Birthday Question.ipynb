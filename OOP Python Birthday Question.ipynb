{
 "cells": [
  {
   "cell_type": "markdown",
   "metadata": {},
   "source": [
    "### Question\n",
    "Implement a simulation that can assist to study the birthday paradox. You may follow the link to learn more about it, but for this assignment here's what you need to do:\n",
    "\n",
    "Assume that birthdays of individuals are uniformly distributed over the 365 days in a year. Further, assume that the year is not a leap year, and that it begins on a Monday. We define a calendar week to be the seven days from Monday to Sunday.\n",
    "\n",
    "Suppose there are  𝑛  people in a room. How large does have  𝑛  have to be in order for the probability that there are at least 3 people with their birthdays within the same calendar week to be more than 0.5? You should include a visualisation in your answer.\n"
   ]
  },
  {
   "cell_type": "code",
   "execution_count": 13,
   "metadata": {},
   "outputs": [],
   "source": [
    "import numpy as np\n",
    "import pandas as pd\n",
    "import matplotlib.pyplot as plt\n",
    "from numpy.random import default_rng\n",
    "import pandas as pd\n",
    "import scipy.stats as stats"
   ]
  },
  {
   "cell_type": "markdown",
   "metadata": {},
   "source": [
    "#### assigning no. of weeks"
   ]
  },
  {
   "cell_type": "code",
   "execution_count": 3,
   "metadata": {},
   "outputs": [
    {
     "data": {
      "text/plain": [
       "array([ 1,  2,  3,  4,  5,  6,  7,  8,  9, 10, 11, 12, 13, 14, 15, 16, 17,\n",
       "       18, 19, 20, 21, 22, 23, 24, 25, 26, 27, 28, 29, 30, 31, 32, 33, 34,\n",
       "       35, 36, 37, 38, 39, 40, 41, 42, 43, 44, 45, 46, 47, 48, 49, 50, 51,\n",
       "       52, 53])"
      ]
     },
     "execution_count": 3,
     "metadata": {},
     "output_type": "execute_result"
    }
   ],
   "source": [
    "weeks = np.arange(1,54)\n",
    "weeks"
   ]
  },
  {
   "cell_type": "markdown",
   "metadata": {},
   "source": [
    "#### This line generates random number between 0-53(as specified by the weeks variable) f desired size \n",
    "change the value of the size from 30 to other number and the cell. you will understand what the code is doing"
   ]
  },
  {
   "cell_type": "code",
   "execution_count": 14,
   "metadata": {},
   "outputs": [
    {
     "data": {
      "text/plain": [
       "array([43, 21, 26, 18, 19,  6, 37, 31, 40, 27, 15,  6,  3, 19,  5, 25, 38,\n",
       "       53, 12, 44, 24, 42, 53, 36, 26, 35, 13, 47, 31, 16])"
      ]
     },
     "execution_count": 14,
     "metadata": {},
     "output_type": "execute_result"
    }
   ],
   "source": [
    "rng = default_rng()\n",
    "a = rng.choice(weeks, size=30, replace=True) #considering 30 ppl\n",
    "a"
   ]
  },
  {
   "cell_type": "markdown",
   "metadata": {},
   "source": [
    "#### Creating a data frame of the generated values. A data frame is basically a table \n",
    "make sure you use pandas moddule to acess the DataFrame() function"
   ]
  },
  {
   "cell_type": "code",
   "execution_count": 9,
   "metadata": {},
   "outputs": [],
   "source": [
    "df = pd.DataFrame(a, columns = ['B.day Week'])"
   ]
  },
  {
   "cell_type": "markdown",
   "metadata": {},
   "source": [
    "#### using the value counts() function I'm counting the no occurences of each B'day week\n",
    "by default they will always be in descending order\n",
    "th this example 43 appears 3 times"
   ]
  },
  {
   "cell_type": "code",
   "execution_count": 15,
   "metadata": {},
   "outputs": [
    {
     "data": {
      "text/plain": [
       "24    2\n",
       "53    2\n",
       "52    2\n",
       "16    2\n",
       "13    2\n",
       "31    1\n",
       "11    1\n",
       "34    1\n",
       "4     1\n",
       "5     1\n",
       "2     1\n",
       "7     1\n",
       "8     1\n",
       "42    1\n",
       "47    1\n",
       "12    1\n",
       "30    1\n",
       "49    1\n",
       "39    1\n",
       "19    1\n",
       "20    1\n",
       "27    1\n",
       "28    1\n",
       "29    1\n",
       "33    1\n",
       "Name: B.day Week, dtype: int64"
      ]
     },
     "execution_count": 15,
     "metadata": {},
     "output_type": "execute_result"
    }
   ],
   "source": [
    "df['B.day Week'].value_counts()"
   ]
  },
  {
   "cell_type": "markdown",
   "metadata": {},
   "source": [
    "##### we just need to know if there is atlest one bday week which appears thrice or more\n",
    "se we just need to check the first element is greater than or equal to 3 or not as it will always be sorted in descending order"
   ]
  },
  {
   "cell_type": "code",
   "execution_count": 16,
   "metadata": {},
   "outputs": [
    {
     "data": {
      "text/plain": [
       "array([2, 2, 2, 2, 2, 1, 1, 1, 1, 1, 1, 1, 1, 1, 1, 1, 1, 1, 1, 1, 1, 1,\n",
       "       1, 1, 1], dtype=int64)"
      ]
     },
     "execution_count": 16,
     "metadata": {},
     "output_type": "execute_result"
    }
   ],
   "source": [
    "df['B.day Week'].value_counts().values"
   ]
  },
  {
   "cell_type": "markdown",
   "metadata": {},
   "source": [
    "#### 1. Now we ran the operation just once for n = 30\n",
    "2. In order to develope more confidence we should run 500 simulations as because the list obtained was derived from random choice and each time the bday\n",
    "wekk combunation will change\n",
    "3. Nect step will be to calculate the probabilities of getting atlest 3 people having same bday week in the 500 simulations\n",
    "4. Also we need to check for all values and not just n = 30"
   ]
  },
  {
   "cell_type": "code",
   "execution_count": 17,
   "metadata": {},
   "outputs": [
    {
     "name": "stdout",
     "output_type": "stream",
     "text": [
      "n =  3 , Probability -------> 0.0\n",
      "n =  4 , Probability -------> 0.0\n",
      "n =  5 , Probability -------> 0.0\n",
      "n =  6 , Probability -------> 0.0\n",
      "n =  7 , Probability -------> 0.0\n",
      "n =  8 , Probability -------> 0.0\n",
      "n =  9 , Probability -------> 0.0\n",
      "n =  10 , Probability -------> 0.0\n",
      "n =  11 , Probability -------> 0.0\n",
      "n =  12 , Probability -------> 0.0\n",
      "n =  13 , Probability -------> 0.0\n",
      "n =  14 , Probability -------> 0.0\n",
      "n =  15 , Probability -------> 0.0\n",
      "n =  16 , Probability -------> 0.0\n",
      "n =  17 , Probability -------> 0.0\n",
      "n =  18 , Probability -------> 0.0\n",
      "n =  19 , Probability -------> 0.0\n",
      "n =  20 , Probability -------> 0.0\n",
      "n =  21 , Probability -------> 0.0\n",
      "n =  22 , Probability -------> 0.0\n",
      "n =  23 , Probability -------> 0.0\n",
      "n =  24 , Probability -------> 0.0\n",
      "n =  25 , Probability -------> 0.0\n",
      "n =  26 , Probability -------> 0.0\n",
      "n =  27 , Probability -------> 0.0\n",
      "n =  28 , Probability -------> 0.0\n",
      "n =  29 , Probability -------> 0.0\n",
      "n =  30 , Probability -------> 0.0\n",
      "n =  31 , Probability -------> 0.0\n",
      "n =  32 , Probability -------> 0.0\n",
      "n =  33 , Probability -------> 0.0\n",
      "n =  34 , Probability -------> 0.0\n"
     ]
    }
   ],
   "source": [
    "N=35\n",
    "simulations = 500\n",
    "probabilities = []\n",
    "for n in range(3,N):\n",
    "    count = 0\n",
    "    for i in range(simulations):\n",
    "        s = rng.choice(weeks, size=n, replace=True)\n",
    "        df = pd.DataFrame(a, columns = ['B.day Week'])\n",
    "        \n",
    "        if df['B.day Week'].value_counts().values[0] >= 3: #3 or more people having common bday week\n",
    "            count = count+1\n",
    "    Probability = count/simulations\n",
    "    probabilities.append(Probability)\n",
    "    print('n = ',n,', Probability ------->', Probability)"
   ]
  },
  {
   "cell_type": "code",
   "execution_count": 22,
   "metadata": {},
   "outputs": [
    {
     "data": {
      "image/png": "[encoded data removed]",
      "text/plain": [
       "<Figure size 720x432 with 1 Axes>"
      ]
     },
     "metadata": {
      "needs_background": "light"
     },
     "output_type": "display_data"
    }
   ],
   "source": [
    "plt.figure(figsize=(10,6)) #used for changing the plot size\n",
    "plt.plot(range(3,35), probabilities, 'go')\n",
    "plt.hlines(0.5, 1,35, colors='b', linestyles='dotted')\n",
    "plt.title('Probabilities vs No. of people',size=25)\n",
    "plt.ylabel('Probabilities', size=15)\n",
    "plt.xlabel('No. of people', size=15)\n",
    "plt.show()"
   ]
  },
  {
   "cell_type": "code",
   "execution_count": null,
   "metadata": {},
   "outputs": [],
   "source": []
  }
 ],
 "metadata": {
  "kernelspec": {
   "display_name": "Python 3",
   "language": "python",
   "name": "python3"
  },
  "language_info": {
   "codemirror_mode": {
    "name": "ipython",
    "version": 3
   },
   "file_extension": ".py",
   "mimetype": "text/x-python",
   "name": "python",
   "nbconvert_exporter": "python",
   "pygments_lexer": "ipython3",
   "version": "3.7.4"
  }
 },
 "nbformat": 4,
 "nbformat_minor": 2
}
