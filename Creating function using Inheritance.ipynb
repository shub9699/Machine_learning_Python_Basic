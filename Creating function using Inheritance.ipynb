{
 "cells": [
  {
   "cell_type": "code",
   "execution_count": 1,
   "metadata": {},
   "outputs": [],
   "source": [
    "class SampleClass:\n",
    "    pass"
   ]
  },
  {
   "cell_type": "code",
   "execution_count": 2,
   "metadata": {},
   "outputs": [],
   "source": [
    "#ceeate an object /instance\n",
    "s1 = SampleClass()"
   ]
  },
  {
   "cell_type": "code",
   "execution_count": 3,
   "metadata": {},
   "outputs": [
    {
     "data": {
      "text/plain": [
       "__main__.SampleClass"
      ]
     },
     "execution_count": 3,
     "metadata": {},
     "output_type": "execute_result"
    }
   ],
   "source": [
    "type(s1)"
   ]
  },
  {
   "cell_type": "code",
   "execution_count": 4,
   "metadata": {},
   "outputs": [],
   "source": [
    "#initialize an attribute inside the class\n",
    "#for this we need to write function/method called init\n",
    "\n",
    "class MobilePhone():\n",
    "    def __init__(self,Price,Model): #constructor - initializes an object and makes the method\n",
    "                                    #and attribute inside the class available to the object\n",
    "            self.model = Model\n",
    "            self.Price = Price\n"
   ]
  },
  {
   "cell_type": "code",
   "execution_count": 6,
   "metadata": {},
   "outputs": [],
   "source": [
    "m1 = MobilePhone(50000, '1+')"
   ]
  },
  {
   "cell_type": "code",
   "execution_count": 7,
   "metadata": {},
   "outputs": [
    {
     "data": {
      "text/plain": [
       "'1+'"
      ]
     },
     "execution_count": 7,
     "metadata": {},
     "output_type": "execute_result"
    }
   ],
   "source": [
    "m1.model"
   ]
  },
  {
   "cell_type": "code",
   "execution_count": 8,
   "metadata": {},
   "outputs": [
    {
     "data": {
      "text/plain": [
       "50000"
      ]
     },
     "execution_count": 8,
     "metadata": {},
     "output_type": "execute_result"
    }
   ],
   "source": [
    "m1.Price"
   ]
  },
  {
   "cell_type": "code",
   "execution_count": 9,
   "metadata": {},
   "outputs": [],
   "source": [
    "class MobilePhone():\n",
    "    #self.attribute = attribute_name\n",
    "    \n",
    "    def __init__(self,Price,Model):\n",
    "        self.MyModel = Model\n",
    "        self.MyPrice = Price"
   ]
  },
  {
   "cell_type": "code",
   "execution_count": 10,
   "metadata": {},
   "outputs": [],
   "source": [
    "m1 = MobilePhone(60000, 'Iphone')"
   ]
  },
  {
   "cell_type": "code",
   "execution_count": 11,
   "metadata": {},
   "outputs": [],
   "source": [
    "m2 = MobilePhone(10000, 'Samsung')"
   ]
  },
  {
   "cell_type": "code",
   "execution_count": 12,
   "metadata": {},
   "outputs": [
    {
     "data": {
      "text/plain": [
       "('Iphone', 'Samsung')"
      ]
     },
     "execution_count": 12,
     "metadata": {},
     "output_type": "execute_result"
    }
   ],
   "source": [
    "m1.MyModel,m2.MyModel"
   ]
  },
  {
   "cell_type": "code",
   "execution_count": 27,
   "metadata": {},
   "outputs": [],
   "source": [
    "#Methods\n",
    "class Bank():\n",
    "    \n",
    "    #class attribute\n",
    "    #common to all instances of the class\n",
    "    \n",
    "    Bank_Name = 'SBI'\n",
    "    \n",
    "    def __init__(self,branch,employees):\n",
    "        \n",
    "        self.branch = branch\n",
    "        self.employees = employees\n",
    "        \n",
    "    def acc_opening(self):\n",
    "        print('Bank has digitalized the account opening process')"
   ]
  },
  {
   "cell_type": "code",
   "execution_count": 28,
   "metadata": {},
   "outputs": [],
   "source": [
    "b1 = Bank('Andheri', 10)\n",
    "b2 = Bank('Malad',9)"
   ]
  },
  {
   "cell_type": "code",
   "execution_count": 29,
   "metadata": {},
   "outputs": [
    {
     "name": "stdout",
     "output_type": "stream",
     "text": [
      "Bank has digitalized the account opening process\n"
     ]
    }
   ],
   "source": [
    "b1.acc_opening()"
   ]
  },
  {
   "cell_type": "code",
   "execution_count": 39,
   "metadata": {},
   "outputs": [
    {
     "name": "stdout",
     "output_type": "stream",
     "text": [
      "Bank has digitalized the account opening process and opened 1200 accounts\n"
     ]
    }
   ],
   "source": [
    "#use the self keyword to access the method attributes\n",
    "class Bank():\n",
    "    Bank_Name = 'SBI'\n",
    "    def __init__(self,branch,employees,acc):\n",
    "        \n",
    "        self.branch = branch\n",
    "        self.employees = employees\n",
    "        self.acc = acc\n",
    "    def acc_opening(self):\n",
    "        print('Bank has digitalized the account opening process and opened {} accounts'.format(self.acc))\n",
    "b4 = Bank('Dadar',9,1200)\n",
    "b4.acc_opening()"
   ]
  },
  {
   "cell_type": "code",
   "execution_count": 41,
   "metadata": {},
   "outputs": [
    {
     "name": "stdout",
     "output_type": "stream",
     "text": [
      "Bank has digitalized the account opening process and opened 1000 accounts\n"
     ]
    }
   ],
   "source": [
    "#method with parameter\n",
    "#use the self keyword to access the method attributes\n",
    "class Bank():\n",
    "    Bank_Name = 'SBI'\n",
    "    def __init__(self,branch,employees):\n",
    "        \n",
    "        self.branch = branch\n",
    "        self.employees = employees\n",
    "    def acc_opeaning(self,accounts):\n",
    "        print('Bank has digitalized the account opening process and opened {} accounts'.format(accounts))\n",
    "b5 = Bank('Dadar',9)\n",
    "b5.acc_opeaning(1000)"
   ]
  },
  {
   "cell_type": "code",
   "execution_count": 42,
   "metadata": {},
   "outputs": [],
   "source": [
    "class Circle():\n",
    "    pi = 3.14\n",
    "    def __init__(self,radius = 1):\n",
    "        self.radius = radius\n",
    "        self.area = radius*radius*Circle.pi\n",
    "    def circumference(self):\n",
    "        print('circumference is: ',2*Circle.pi*self.radius)"
   ]
  },
  {
   "cell_type": "code",
   "execution_count": 43,
   "metadata": {},
   "outputs": [],
   "source": [
    "c1 = Circle()"
   ]
  },
  {
   "cell_type": "code",
   "execution_count": 44,
   "metadata": {},
   "outputs": [
    {
     "data": {
      "text/plain": [
       "3.14"
      ]
     },
     "execution_count": 44,
     "metadata": {},
     "output_type": "execute_result"
    }
   ],
   "source": [
    "c1.area"
   ]
  },
  {
   "cell_type": "code",
   "execution_count": 45,
   "metadata": {},
   "outputs": [
    {
     "data": {
      "text/plain": [
       "314.0"
      ]
     },
     "execution_count": 45,
     "metadata": {},
     "output_type": "execute_result"
    }
   ],
   "source": [
    "c2 = Circle(10)\n",
    "c2.area"
   ]
  },
  {
   "cell_type": "code",
   "execution_count": 47,
   "metadata": {},
   "outputs": [
    {
     "name": "stdout",
     "output_type": "stream",
     "text": [
      "circumference is:  62.800000000000004\n",
      "circumference is:  6.28\n"
     ]
    }
   ],
   "source": [
    "c2.circumference()\n",
    "c1.circumference()"
   ]
  },
  {
   "cell_type": "markdown",
   "metadata": {},
   "source": [
    "#INHERITANCE"
   ]
  },
  {
   "cell_type": "code",
   "execution_count": 18,
   "metadata": {},
   "outputs": [],
   "source": [
    "class gadget():\n",
    "    def __init__(self):\n",
    "        print('Gadget Created')\n",
    "    def video_device(self):\n",
    "        print('This method is used for viewing videos')\n",
    "    def play_game(self):\n",
    "        print('This device is used for playing games')\n"
   ]
  },
  {
   "cell_type": "code",
   "execution_count": 19,
   "metadata": {},
   "outputs": [],
   "source": [
    "class smartphone(gadget):\n",
    "    \n",
    "    def __init__(self):\n",
    "        gadget.__init__(self)\n",
    "        print('Smartphone Created')"
   ]
  },
  {
   "cell_type": "code",
   "execution_count": 20,
   "metadata": {},
   "outputs": [
    {
     "name": "stdout",
     "output_type": "stream",
     "text": [
      "Gadget Created\n",
      "Smartphone Created\n"
     ]
    }
   ],
   "source": [
    "s1 = smartphone()"
   ]
  },
  {
   "cell_type": "code",
   "execution_count": 21,
   "metadata": {},
   "outputs": [
    {
     "name": "stdout",
     "output_type": "stream",
     "text": [
      "This device is used for playing games\n"
     ]
    }
   ],
   "source": [
    "s1.play_game()"
   ]
  },
  {
   "cell_type": "code",
   "execution_count": 22,
   "metadata": {},
   "outputs": [],
   "source": [
    "#we can overwrite the existing method as well\n",
    "class laptop(gadget):\n",
    "    def __init__(self):\n",
    "        gadget.__init__(self)\n",
    "        print('laptop created')\n",
    "    def Video_device(self):\n",
    "        print('This method is used for viewing and editing videos')"
   ]
  },
  {
   "cell_type": "code",
   "execution_count": 23,
   "metadata": {},
   "outputs": [
    {
     "name": "stdout",
     "output_type": "stream",
     "text": [
      "Gadget Created\n",
      "laptop created\n"
     ]
    }
   ],
   "source": [
    "l1 = laptop()"
   ]
  },
  {
   "cell_type": "code",
   "execution_count": 24,
   "metadata": {},
   "outputs": [
    {
     "name": "stdout",
     "output_type": "stream",
     "text": [
      "This method is used for viewing videos\n"
     ]
    }
   ],
   "source": [
    "l1.video_device()"
   ]
  },
  {
   "cell_type": "code",
   "execution_count": 25,
   "metadata": {},
   "outputs": [
    {
     "name": "stdout",
     "output_type": "stream",
     "text": [
      "Hello\n"
     ]
    }
   ],
   "source": [
    "#created an .py file using notepad and called this...\n",
    "import sampleModule"
   ]
  },
  {
   "cell_type": "code",
   "execution_count": null,
   "metadata": {},
   "outputs": [],
   "source": []
  }
 ],
 "metadata": {
  "kernelspec": {
   "display_name": "Python 3",
   "language": "python",
   "name": "python3"
  },
  "language_info": {
   "codemirror_mode": {
    "name": "ipython",
    "version": 3
   },
   "file_extension": ".py",
   "mimetype": "text/x-python",
   "name": "python",
   "nbconvert_exporter": "python",
   "pygments_lexer": "ipython3",
   "version": "3.7.4"
  }
 },
 "nbformat": 4,
 "nbformat_minor": 2
}
